{
  "nbformat": 4,
  "nbformat_minor": 0,
  "metadata": {
    "colab": {
      "name": "second.ipynb",
      "provenance": [],
      "authorship_tag": "ABX9TyPZGo6flC8vaN31Sg4ZLiKN"
    },
    "kernelspec": {
      "name": "python3",
      "display_name": "Python 3"
    },
    "language_info": {
      "name": "python"
    }
  },
  "cells": [
    {
      "cell_type": "code",
      "metadata": {
        "id": "QNTkoTBR3lxW"
      },
      "source": [
        "import numpy as np"
      ],
      "execution_count": null,
      "outputs": []
    },
    {
      "cell_type": "markdown",
      "metadata": {
        "id": "T4y2xch-6jVP"
      },
      "source": [
        "Arrays em NumPy são 100x mais rápidos do que em listas, em contra partida só armazenam valores do mesmo tipo\n",
        "\n",
        "\n",
        "Toda e qualquer alteração no array mesmo que em pedaços em outras variaveis será modificada no array original"
      ]
    },
    {
      "cell_type": "code",
      "metadata": {
        "id": "2NojK_QV5vLJ"
      },
      "source": [
        "arr = np.arange(1000)\n",
        "arr = arr * 2 \n",
        "#print(arr)"
      ],
      "execution_count": null,
      "outputs": []
    },
    {
      "cell_type": "markdown",
      "metadata": {
        "id": "zeVdLhCk9cxC"
      },
      "source": [
        "Arrays 1D = [1, 2, 3]\n",
        "\n",
        "Arrays 2D = [[1, 2, 3], [1, 2, 3]]\n",
        "\n",
        "Arrays 3D = [[[1, 2, 3], [1, 2, 3]], [[1, 2, 3]], [[1,2, 3]], [[1,2,3], [1,2,3]]]"
      ]
    },
    {
      "cell_type": "code",
      "metadata": {
        "colab": {
          "base_uri": "https://localhost:8080/"
        },
        "id": "lF_pRtPr6gzs",
        "outputId": "bc2d70e4-9366-45c5-94ff-faf5a5e081b9"
      },
      "source": [
        "#O atributo ndim nos fornece o número de dimensões do array\n",
        "arr.ndim"
      ],
      "execution_count": null,
      "outputs": [
        {
          "output_type": "execute_result",
          "data": {
            "text/plain": [
              "1"
            ]
          },
          "metadata": {
            "tags": []
          },
          "execution_count": 6
        }
      ]
    },
    {
      "cell_type": "code",
      "metadata": {
        "colab": {
          "base_uri": "https://localhost:8080/"
        },
        "id": "jdzIRQte-qmT",
        "outputId": "cfb00ecc-a698-47b4-dd61-2954d64ec2c3"
      },
      "source": [
        "# O atributo shape nos diz quantos elementos temos em cada dimensão (valor de itens na dimensão 1, ..., valor de items na dimensão n - 1)\n",
        "arr.shape"
      ],
      "execution_count": null,
      "outputs": [
        {
          "output_type": "execute_result",
          "data": {
            "text/plain": [
              "(1000,)"
            ]
          },
          "metadata": {
            "tags": []
          },
          "execution_count": 8
        }
      ]
    },
    {
      "cell_type": "code",
      "metadata": {
        "colab": {
          "base_uri": "https://localhost:8080/"
        },
        "id": "GYf8Hlc9-MF1",
        "outputId": "83122c0f-1461-4685-ce2d-3340666cabbb"
      },
      "source": [
        "#Lista p array:\n",
        "arr2 = np.array([[1, 2, 3], [1, 2, 3]])\n",
        "print(type(arr2))"
      ],
      "execution_count": null,
      "outputs": [
        {
          "output_type": "stream",
          "text": [
            "<class 'numpy.ndarray'>\n"
          ],
          "name": "stdout"
        }
      ]
    },
    {
      "cell_type": "markdown",
      "metadata": {
        "id": "vhzdtfJZ_K29"
      },
      "source": [
        "Gerando arrays de zeros"
      ]
    },
    {
      "cell_type": "code",
      "metadata": {
        "colab": {
          "base_uri": "https://localhost:8080/"
        },
        "id": "VODmdOuK_OMd",
        "outputId": "08433ddd-9d6d-48a0-faba-3aeeaff2abc4"
      },
      "source": [
        "# somente uma dimensão:\n",
        "arrays_zero = np.zeros(10)\n",
        "\n",
        "# uma ou mais demnsões:\n",
        "arrays_zero2 = np.zeros((2, 10))\n",
        "\n",
        "print(f'Only one dimension:  {arrays_zero}')\n",
        "print(f'More dimensions: \\n{arrays_zero2}')"
      ],
      "execution_count": null,
      "outputs": [
        {
          "output_type": "stream",
          "text": [
            "Only one dimension:  [0. 0. 0. 0. 0. 0. 0. 0. 0. 0.]\n",
            "More dimensions: \n",
            "[[0. 0. 0. 0. 0. 0. 0. 0. 0. 0.]\n",
            " [0. 0. 0. 0. 0. 0. 0. 0. 0. 0.]]\n"
          ],
          "name": "stdout"
        }
      ]
    },
    {
      "cell_type": "markdown",
      "metadata": {
        "id": "LG5CYi_pAE6b"
      },
      "source": [
        "Gerando arrays de um: (segue a mesma do logica do array de zero)"
      ]
    },
    {
      "cell_type": "code",
      "metadata": {
        "colab": {
          "base_uri": "https://localhost:8080/"
        },
        "id": "6DrdtZ2uAIUw",
        "outputId": "aefa8b37-a0f4-42c7-9448-665ca26d7e7c"
      },
      "source": [
        "uns = np.ones((2, 10))\n",
        "print(uns)"
      ],
      "execution_count": null,
      "outputs": [
        {
          "output_type": "stream",
          "text": [
            "[[1. 1. 1. 1. 1. 1. 1. 1. 1. 1.]\n",
            " [1. 1. 1. 1. 1. 1. 1. 1. 1. 1.]]\n"
          ],
          "name": "stdout"
        }
      ]
    },
    {
      "cell_type": "markdown",
      "metadata": {
        "id": "4YMhLZSBAgty"
      },
      "source": [
        "Arrays de intervalos:"
      ]
    },
    {
      "cell_type": "code",
      "metadata": {
        "colab": {
          "base_uri": "https://localhost:8080/"
        },
        "id": "eKbjqqt0AjW7",
        "outputId": "95b2ede1-d440-46d7-f504-498b1c64b60e"
      },
      "source": [
        "intervalo_array = np.arange(10)\n",
        "print(intervalo_array)"
      ],
      "execution_count": null,
      "outputs": [
        {
          "output_type": "stream",
          "text": [
            "[0 1 2 3 4 5 6 7 8 9]\n"
          ],
          "name": "stdout"
        }
      ]
    },
    {
      "cell_type": "markdown",
      "metadata": {
        "id": "ngQ5MJYJGWPO"
      },
      "source": [
        "Visualização com fatiamento:"
      ]
    },
    {
      "cell_type": "code",
      "metadata": {
        "colab": {
          "base_uri": "https://localhost:8080/"
        },
        "id": "LILqtNPiGaeE",
        "outputId": "ca6f49c1-4b77-4d2a-b25c-3f7d1205d472"
      },
      "source": [
        "array3 = np.array([0, 1, 2, 3, 4, 5, 6, 7, 8, 9, 10])\n",
        "\n",
        "print(array3[0:2])"
      ],
      "execution_count": null,
      "outputs": [
        {
          "output_type": "stream",
          "text": [
            "[0 1]\n"
          ],
          "name": "stdout"
        }
      ]
    },
    {
      "cell_type": "code",
      "metadata": {
        "colab": {
          "base_uri": "https://localhost:8080/"
        },
        "id": "eepL3dp8GtCS",
        "outputId": "0ccf35e5-773f-4ee8-d45c-c4a06119caa9"
      },
      "source": [
        "#substituição por intervalos\n",
        "\n",
        "array3[0:2] = 11\n",
        "\n",
        "print(array3)"
      ],
      "execution_count": null,
      "outputs": [
        {
          "output_type": "stream",
          "text": [
            "[11 11  2  3  4  5  6  7  8  9 10]\n"
          ],
          "name": "stdout"
        }
      ]
    },
    {
      "cell_type": "code",
      "metadata": {
        "colab": {
          "base_uri": "https://localhost:8080/"
        },
        "id": "v_oHcTINJ5rP",
        "outputId": "6970c9b5-b0d6-4e13-8106-4af06d3bca50"
      },
      "source": [
        "array_mul = np.array([[[1,2,3],[4,5,6]],[[7,8,9],[10,11,12]]])\n",
        "print(array_mul)"
      ],
      "execution_count": null,
      "outputs": [
        {
          "output_type": "stream",
          "text": [
            "[[[ 1  2  3]\n",
            "  [ 4  5  6]]\n",
            "\n",
            " [[ 7  8  9]\n",
            "  [10 11 12]]]\n"
          ],
          "name": "stdout"
        }
      ]
    },
    {
      "cell_type": "markdown",
      "metadata": {
        "id": "G59qZPJ_G2S3"
      },
      "source": [
        "Indexação de valores:"
      ]
    },
    {
      "cell_type": "code",
      "metadata": {
        "colab": {
          "base_uri": "https://localhost:8080/"
        },
        "id": "9rmVLIaNG0gK",
        "outputId": "7229c07c-8e5d-4de2-e5ed-ddfd2ba14d4d"
      },
      "source": [
        "new_a = np.array([[ 0.08332437,  0.74508302,  0.29377823, -0.40309144],\n",
        "       [-0.00657249, -0.37183682,  1.65978568,  0.24354861],\n",
        "       [ 0.92646306, -1.60207788, -0.70337059,  0.04696397],\n",
        "       [ 0.64716676, -0.63640023, -0.83317346, -1.1008962 ],\n",
        "       [ 0.37581831, -1.20021293,  0.73862489, -0.76597305],\n",
        "       [-1.49527206,  0.72298234,  1.59186498, -1.04811938],\n",
        "       [ 0.36767802, -0.43538573, -0.87275053, -0.15102263]])\n",
        "\n",
        "print(new_a)"
      ],
      "execution_count": null,
      "outputs": [
        {
          "output_type": "stream",
          "text": [
            "[[ 0.08332437  0.74508302  0.29377823 -0.40309144]\n",
            " [-0.00657249 -0.37183682  1.65978568  0.24354861]\n",
            " [ 0.92646306 -1.60207788 -0.70337059  0.04696397]\n",
            " [ 0.64716676 -0.63640023 -0.83317346 -1.1008962 ]\n",
            " [ 0.37581831 -1.20021293  0.73862489 -0.76597305]\n",
            " [-1.49527206  0.72298234  1.59186498 -1.04811938]\n",
            " [ 0.36767802 -0.43538573 -0.87275053 -0.15102263]]\n"
          ],
          "name": "stdout"
        }
      ]
    },
    {
      "cell_type": "code",
      "metadata": {
        "colab": {
          "base_uri": "https://localhost:8080/"
        },
        "id": "WgVy61meHhZ0",
        "outputId": "257ca441-d1bf-43bb-9c95-1c19a2df85fa"
      },
      "source": [
        "print((new_a> 0) & (new_a<1))"
      ],
      "execution_count": null,
      "outputs": [
        {
          "output_type": "stream",
          "text": [
            "[[ True  True  True False]\n",
            " [False False False  True]\n",
            " [ True False False  True]\n",
            " [ True False False False]\n",
            " [ True False  True False]\n",
            " [False  True False False]\n",
            " [ True False False False]]\n"
          ],
          "name": "stdout"
        }
      ]
    },
    {
      "cell_type": "code",
      "metadata": {
        "colab": {
          "base_uri": "https://localhost:8080/"
        },
        "id": "5_oVsfrUHOJ5",
        "outputId": "c24d6bd6-a9ba-4ed3-aa80-a46c846ce5e7"
      },
      "source": [
        "new_a[new_a < 0] = 0\n",
        "\n",
        "print(new_a)"
      ],
      "execution_count": null,
      "outputs": [
        {
          "output_type": "stream",
          "text": [
            "[[0.08332437 0.74508302 0.29377823 0.        ]\n",
            " [0.         0.         1.65978568 0.24354861]\n",
            " [0.92646306 0.         0.         0.04696397]\n",
            " [0.64716676 0.         0.         0.        ]\n",
            " [0.37581831 0.         0.73862489 0.        ]\n",
            " [0.         0.72298234 1.59186498 0.        ]\n",
            " [0.36767802 0.         0.         0.        ]]\n"
          ],
          "name": "stdout"
        }
      ]
    },
    {
      "cell_type": "markdown",
      "metadata": {
        "id": "v7mSMFHGI4Oo"
      },
      "source": [
        "transformamos array para uma matriz:"
      ]
    },
    {
      "cell_type": "code",
      "metadata": {
        "colab": {
          "base_uri": "https://localhost:8080/"
        },
        "id": "xGeqaLOcI6Vt",
        "outputId": "98e48dab-bd06-43d4-a4b2-e197aeebf902"
      },
      "source": [
        "n_a = np.arange(20).reshape((4,5))\n",
        "\n",
        "print(n_a)"
      ],
      "execution_count": null,
      "outputs": [
        {
          "output_type": "stream",
          "text": [
            "[[ 0  1  2  3  4]\n",
            " [ 5  6  7  8  9]\n",
            " [10 11 12 13 14]\n",
            " [15 16 17 18 19]]\n"
          ],
          "name": "stdout"
        }
      ]
    },
    {
      "cell_type": "markdown",
      "metadata": {
        "id": "1Ga3ov3SRPcM"
      },
      "source": [
        "Matriz tranposta:"
      ]
    },
    {
      "cell_type": "code",
      "metadata": {
        "colab": {
          "base_uri": "https://localhost:8080/"
        },
        "id": "rWV15b6AJPtY",
        "outputId": "70a1617d-8832-471f-d819-710c458e5da3"
      },
      "source": [
        "print(n_a.T)"
      ],
      "execution_count": null,
      "outputs": [
        {
          "output_type": "stream",
          "text": [
            "[[ 0  5 10 15]\n",
            " [ 1  6 11 16]\n",
            " [ 2  7 12 17]\n",
            " [ 3  8 13 18]\n",
            " [ 4  9 14 19]]\n"
          ],
          "name": "stdout"
        }
      ]
    },
    {
      "cell_type": "markdown",
      "metadata": {
        "id": "Ik3FW8q1RS42"
      },
      "source": [
        "Soma da matiz com a tranposta da mesma:"
      ]
    },
    {
      "cell_type": "code",
      "metadata": {
        "colab": {
          "base_uri": "https://localhost:8080/"
        },
        "id": "bE5WZlMJRb9Z",
        "outputId": "f8eddd53-f222-4595-e798-d39884328462"
      },
      "source": [
        "print(np.dot(n_a.T, n_a))"
      ],
      "execution_count": null,
      "outputs": [
        {
          "output_type": "stream",
          "text": [
            "[[350 380 410 440 470]\n",
            " [380 414 448 482 516]\n",
            " [410 448 486 524 562]\n",
            " [440 482 524 566 608]\n",
            " [470 516 562 608 654]]\n"
          ],
          "name": "stdout"
        }
      ]
    },
    {
      "cell_type": "markdown",
      "metadata": {
        "id": "hFhfO_qcTJ56"
      },
      "source": [
        "Incompleto: organização da matriz, substituição, estrutura consicional para substituição, funções para estatistica, ..."
      ]
    }
  ]
}